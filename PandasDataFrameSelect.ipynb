{
 "cells": [
  {
   "cell_type": "code",
   "execution_count": 1,
   "metadata": {
    "collapsed": true
   },
   "outputs": [
    {
     "name": "stdout",
     "output_type": "stream",
     "text": [
      "    name      city  age\n0    ray  hangzhou   10\n1   jack   beijing   30\n2   lucy  hangzhou   20\n3    bob   chengdu   15\n4  candy    suzhou   50\n"
     ]
    }
   ],
   "source": [
    "import pandas as pd\n",
    "\n",
    "df = pd.DataFrame({'name': ['ray', 'jack', 'lucy', 'bob', 'candy'],\n",
    "                   'age': [10, 30, 20, 15, 50],\n",
    "                   'city': ['hangzhou', 'beijing', 'hangzhou', 'chengdu', 'suzhou']},\n",
    "                  columns=['name', 'city', 'age'])\n",
    "print(df)"
   ]
  },
  {
   "cell_type": "code",
   "execution_count": 2,
   "metadata": {},
   "outputs": [
    {
     "name": "stdout",
     "output_type": "stream",
     "text": [
      "name         ray\ncity    hangzhou\nage           10\nName: 0, dtype: object\n-----\nname         ray\ncity    hangzhou\nage           10\nName: 0, dtype: object\n"
     ]
    }
   ],
   "source": [
    "# 选取行\n",
    "print(df.loc[0])        # 按索引标签选取  df.loc[0:4]  末端能取到.  df.loc[[0,2,6,4]]\n",
    "print('-----')\n",
    "print(df.iloc[0])       # 按索引位置选取   df.iloc[0:4]"
   ]
  },
  {
   "cell_type": "code",
   "execution_count": 3,
   "metadata": {},
   "outputs": [
    {
     "name": "stdout",
     "output_type": "stream",
     "text": [
      "0      ray\n1     jack\n2     lucy\n3      bob\n4    candy\nName: name, dtype: object\n"
     ]
    }
   ],
   "source": [
    "# 选取列\n",
    "print(df['name'])    # 返回一个Series格式。df[['name']]返回DataFrame格式\n",
    "# df.loc[:,['name']]     df.iloc[:,[0]]都可以，但不够简洁\n",
    "# df.loc[:,'name':'age']     df.iloc[:,:2]"
   ]
  },
  {
   "cell_type": "code",
   "execution_count": 4,
   "metadata": {},
   "outputs": [
    {
     "name": "stdout",
     "output_type": "stream",
     "text": [
      "   name      city  age\n0   ray  hangzhou   10\n1  jack   beijing   30\n2  lucy  hangzhou   20\n3   bob   chengdu   15\n-------\n   age      city\n0   10  hangzhou\n2   20  hangzhou\n"
     ]
    }
   ],
   "source": [
    "# 数据筛选\n",
    "print(df.loc[df['age'] <= 30])\n",
    "print('-------')\n",
    "print(df.loc[(df['age'] < 30) & (df['city'] == 'hangzhou'), ['age', 'city']])"
   ]
  },
  {
   "cell_type": "code",
   "execution_count": 5,
   "metadata": {},
   "outputs": [
    {
     "name": "stdout",
     "output_type": "stream",
     "text": [
      "               name\ncity     age       \nhangzhou 10     ray\nbeijing  30    jack\nhangzhou 20    lucy\nchengdu  15     bob\nsuzhou   50   candy\nMultiIndex(levels=[['beijing', 'chengdu', 'hangzhou', 'suzhou'], [10, 15, 20, 30, 50]],\n           labels=[[2, 0, 2, 1, 3], [0, 3, 2, 1, 4]],\n           names=['city', 'age'])\nIndex(['hangzhou', 'beijing', 'hangzhou', 'chengdu', 'suzhou'], dtype='object', name='city')\nInt64Index([10, 30, 20, 15, 50], dtype='int64', name='age')\n               name\nage city           \n10  hangzhou    ray\n30  beijing    jack\n20  hangzhou   lucy\n15  chengdu     bob\n50  suzhou    candy\n"
     ]
    }
   ],
   "source": [
    "a = df.set_index(['city', 'age'])      # 多重索引\n",
    "print(a)  \n",
    "print(a.index)\n",
    "print(a.index.get_level_values(0))\n",
    "print(a.index.get_level_values(1))\n",
    "print(a.swaplevel())"
   ]
  },
  {
   "cell_type": "code",
   "execution_count": 6,
   "metadata": {},
   "outputs": [
    {
     "name": "stdout",
     "output_type": "stream",
     "text": [
      "               name\ncity     age       \nbeijing  30    jack\nchengdu  15     bob\nhangzhou 10     ray\n         20    lucy\nsuzhou   50   candy\n--------------\n     name\nage      \n10    ray\n20   lucy\n--------------\nname    ray\nName: (hangzhou, 10), dtype: object\n--------------\n               name\ncity     age       \nhangzhou 10     ray\n         20    lucy\nsuzhou   50   candy\n--------------\n             name\ncity     age     \nhangzhou 10   ray\n--------------\n              name\ncity     age      \nhangzhou 20   lucy\n"
     ]
    }
   ],
   "source": [
    "a.sort_index(inplace=True)\n",
    "print(a)\n",
    "print('--------------')\n",
    "print(a.loc['hangzhou'])        # 选取第一重索引\n",
    "print('--------------')\n",
    "print(a.loc[('hangzhou', 10)])        # 选取第一重索引为hangzhuo,第二重索引为age\n",
    "print('--------------')\n",
    "print(a.loc[slice('hangzhou', 'suzhou')]) \n",
    "print('--------------')\n",
    "print(a.loc[(slice('hangzhou', 'suzhou'), 10), :]) \n",
    "print('--------------')\n",
    "print(a.loc[(slice(None), 20), :])"
   ]
  },
  {
   "cell_type": "code",
   "execution_count": null,
   "metadata": {},
   "outputs": [],
   "source": [
    ""
   ]
  }
 ],
 "metadata": {
  "kernelspec": {
   "display_name": "Python 2",
   "language": "python",
   "name": "python2"
  },
  "language_info": {
   "codemirror_mode": {
    "name": "ipython",
    "version": 2
   },
   "file_extension": ".py",
   "mimetype": "text/x-python",
   "name": "python",
   "nbconvert_exporter": "python",
   "pygments_lexer": "ipython2",
   "version": "2.7.6"
  }
 },
 "nbformat": 4,
 "nbformat_minor": 0
}
