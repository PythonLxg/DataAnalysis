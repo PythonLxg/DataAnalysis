{
 "cells": [
  {
   "cell_type": "code",
   "execution_count": 1,
   "metadata": {
    "collapsed": true
   },
   "outputs": [
    {
     "name": "stdout",
     "output_type": "stream",
     "text": [
      "True\n(3, 4)\n1301862097584\n1301862097584\n--------\n[[ 0  1  2  3]\n [ 4  5  6  7]\n [ 8  9 10 11]]\n[[  0   1   2   3]\n [  4 666   6   7]\n [  8   9  10  11]]\n[[  0   1   2   3]\n [  4 666   6   7]\n [  8   9  10  11]]\n"
     ]
    }
   ],
   "source": [
    "# 复制操作\n",
    "import numpy as np\n",
    "\n",
    "a = np.arange(12)\n",
    "b = a           # 共用同一内存空间，不管修改哪一个，另一个也会跟着改变\n",
    "print(a is b)\n",
    "b.shape = (3, 4)\n",
    "print(a.shape)\n",
    "print(id(a))\n",
    "print(id(b))\n",
    "print('--------')\n",
    "c = a[:]        # 同c = a.view()\n",
    "print(a)\n",
    "a[1, 1] = 666\n",
    "print(c)\n",
    "print(a)"
   ]
  },
  {
   "cell_type": "code",
   "execution_count": 2,
   "metadata": {},
   "outputs": [
    {
     "name": "stdout",
     "output_type": "stream",
     "text": [
      "False\n(3, 4)\n1301862097584\n1302117160720\n----\n[[  0   1   2   3]\n [  4 666   6   7]\n [  8   9  10  11]]\n[[  0   1   2   3   4 666]\n [  6   7   8   9  10  11]]\n------\n[[   0    1    2    3]\n [1234  666    6    7]\n [   8    9   10   11]]\n[[   0    1    2    3 1234  666]\n [   6    7    8    9   10   11]]\n"
     ]
    }
   ],
   "source": [
    "c = a.view()        # 视图复制,相当于浅复制.等同与c = a[:]\n",
    "print(a is c)\n",
    "c.shape = (2, 6)\n",
    "print(a.shape)\n",
    "print(id(a))\n",
    "print(id(c))\n",
    "print('----')\n",
    "print(a)\n",
    "print(c)\n",
    "print('------')\n",
    "c[0, 4] = 1234      # 会影响a,a改变也会改变c\n",
    "print(a)\n",
    "print(c)"
   ]
  },
  {
   "cell_type": "code",
   "execution_count": 3,
   "metadata": {},
   "outputs": [
    {
     "name": "stdout",
     "output_type": "stream",
     "text": [
      "False\n[[   0    1    2    3]\n [1234  666    6    7]\n [   8    9   10   11]]\n[[   0    1    2    3]\n [1234  666    6    7]\n [   8    9   10   11]]\n-------\n[[   0    1    2    3]\n [1234  666    6    7]\n [   8    9   10   11]]\n[[1234    1    2    3]\n [1234  666    6    7]\n [   8    9   10   11]]\n"
     ]
    }
   ],
   "source": [
    "d = a.copy()        # 深复制\n",
    "print(a is d)\n",
    "print(a)\n",
    "print(d)\n",
    "print('-------')\n",
    "d[0, 0] = 1234      # 并不影响a\n",
    "print(a)\n",
    "print(d)"
   ]
  },
  {
   "cell_type": "code",
   "execution_count": null,
   "metadata": {},
   "outputs": [],
   "source": []
  }
 ],
 "metadata": {
  "kernelspec": {
   "display_name": "Python 2",
   "language": "python",
   "name": "python2"
  },
  "language_info": {
   "codemirror_mode": {
    "name": "ipython",
    "version": 2
   },
   "file_extension": ".py",
   "mimetype": "text/x-python",
   "name": "python",
   "nbconvert_exporter": "python",
   "pygments_lexer": "ipython2",
   "version": "2.7.6"
  }
 },
 "nbformat": 4,
 "nbformat_minor": 0
}
