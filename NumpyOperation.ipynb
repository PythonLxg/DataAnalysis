{
 "cells": [
  {
   "cell_type": "code",
   "execution_count": 2,
   "metadata": {
    "collapsed": true
   },
   "outputs": [
    {
     "name": "stdout",
     "output_type": "stream",
     "text": [
      "[0 1 2]\n[[0 1 2]\n [3 4 5]]\n[1.         2.71828183 7.3890561 ]\n[0.         1.         1.41421356]\n[3 5 7]\n[[0 1 2]\n [3 5 7]]\n[2.25 2.25 2.25]\n"
     ]
    }
   ],
   "source": [
    "import numpy as np\n",
    "\n",
    "A = np.arange(3)\n",
    "B = np.arange(6).reshape((2, 3))\n",
    "print(A)\n",
    "print(B)\n",
    "print(np.exp(A))\n",
    "print(np.sqrt(A))\n",
    "print(np.sum(B, axis=0))\n",
    "print(np.cumsum(B, axis=0))\n",
    "print(np.var(B, axis=0))"
   ]
  },
  {
   "cell_type": "code",
   "execution_count": 3,
   "metadata": {},
   "outputs": [],
   "source": [
    "a = np.floor(np.random.randn(3, 4))\n",
    "print(a)\n",
    "print('------')\n",
    "print(a.ravel())\n",
    "print('-------')\n",
    "a.shape = (2, 6)        # a.reshape(2, -1)\n",
    "print(a)\n",
    "print('------')\n",
    "print(a.T)"
   ]
  },
  {
   "cell_type": "code",
   "execution_count": 4,
   "metadata": {},
   "outputs": [
    {
     "name": "stdout",
     "output_type": "stream",
     "text": [
      "[[-1.  1.]\n [ 0. -1.]]\n-----\n[[-1.  1.]\n [-1. -1.]]\n------\n[[-1.  1. -1.  1.]\n [ 0. -1. -1. -1.]]\n------\n[[-1.  1.]\n [ 0. -1.]\n [-1.  1.]\n [-1. -1.]]\n"
     ]
    }
   ],
   "source": [
    "# 拼接操作\n",
    "a = np.floor(np.random.randn(2, 2))\n",
    "b = np.floor(np.random.randn(2, 2))\n",
    "print(a)\n",
    "print('-----')\n",
    "print(b)\n",
    "print('------')\n",
    "print(np.hstack((a, b)))        # 水平拼接\n",
    "print('------')\n",
    "print(np.vstack((a, b)))        # 垂直拼接"
   ]
  },
  {
   "cell_type": "code",
   "execution_count": 5,
   "metadata": {},
   "outputs": [
    {
     "name": "stdout",
     "output_type": "stream",
     "text": [
      "[[ 0.  0. -1.  0. -1.  0.  0.  0.  0.  0.  1. -1.]\n [ 1.  1.  2. -1.  1.  0.  0.  1.  1.  0.  0.  0.]]\n-------\n[array([[ 0.,  0., -1.,  0.],\n       [ 1.,  1.,  2., -1.]]), array([[-1.,  0.,  0.,  0.],\n       [ 1.,  0.,  0.,  1.]]), array([[ 0.,  0.,  1., -1.],\n       [ 1.,  0.,  0.,  0.]])]\n--------\n[array([[ 0.,  0., -1.],\n       [ 1.,  1.,  2.]]), array([[ 0., -1.],\n       [-1.,  1.]]), array([[ 0.,  0.,  0.,  0.,  0.,  1., -1.],\n       [ 0.,  0.,  1.,  1.,  0.,  0.,  0.]])]\n-------\n[array([[ 0.,  1.],\n       [ 0.,  1.],\n       [-1.,  2.],\n       [ 0., -1.]]), array([[-1.,  1.],\n       [ 0.,  0.],\n       [ 0.,  0.],\n       [ 0.,  1.]]), array([[ 0.,  1.],\n       [ 0.,  0.],\n       [ 1.,  0.],\n       [-1.,  0.]])]\n"
     ]
    }
   ],
   "source": [
    "# 分割操作\n",
    "a = np.floor(np.random.randn(2, 12))\n",
    "print(a)\n",
    "print('-------')\n",
    "print(np.hsplit(a, 3))\n",
    "print('--------')\n",
    "print(np.hsplit(a, (3, 5)))\n",
    "print('-------')\n",
    "print(np.vsplit(a.T, 3))"
   ]
  },
  {
   "cell_type": "code",
   "execution_count": 6,
   "metadata": {},
   "outputs": [
    {
     "name": "stdout",
     "output_type": "stream",
     "text": [
      "[[ 0.          0.84147098  0.90929743  0.14112001]\n [-0.7568025  -0.95892427 -0.2794155   0.6569866 ]\n [ 0.98935825  0.41211849 -0.54402111 -0.99999021]\n [-0.53657292  0.42016704  0.99060736  0.65028784]\n [-0.28790332 -0.96139749 -0.75098725  0.14987721]]\n[2 0 3 1]\n[0.98935825 0.84147098 0.99060736 0.6569866 ]\n"
     ]
    }
   ],
   "source": [
    "data = np.sin(np.arange(20)).reshape((5, 4))\n",
    "print(data)\n",
    "ind = np.argmax(data, axis=0)\n",
    "print(ind)\n",
    "data_max = data[ind, range(data.shape[1])]\n",
    "print(data_max)"
   ]
  },
  {
   "cell_type": "code",
   "execution_count": 7,
   "metadata": {},
   "outputs": [
    {
     "name": "stdout",
     "output_type": "stream",
     "text": [
      "[ 0 10 20 30]\n[[ 0 10 20 30  0 10 20 30  0 10 20 30]\n [ 0 10 20 30  0 10 20 30  0 10 20 30]]\n"
     ]
    }
   ],
   "source": [
    "a = np.arange(0, 40, 10)\n",
    "print(a)\n",
    "b = np.tile(a, (2, 3))      # 重复\n",
    "print(b)"
   ]
  },
  {
   "cell_type": "code",
   "execution_count": 8,
   "metadata": {},
   "outputs": [
    {
     "name": "stdout",
     "output_type": "stream",
     "text": [
      "[[4 3 5]\n [6 8 7]]\n[[3 4 5]\n [6 7 8]]\n[[4 3 5]\n [6 8 7]]\n[[3 4 5]\n [6 7 8]]\n"
     ]
    }
   ],
   "source": [
    "# 排序操作\n",
    "a = np.array([[4, 3, 5], [6, 8, 7]])\n",
    "print(a)\n",
    "print(np.sort(a, axis=1))       # 不在原处修改\n",
    "print(a)\n",
    "a.sort(axis=1)      # 原处修改\n",
    "print(a)"
   ]
  },
  {
   "cell_type": "code",
   "execution_count": 9,
   "metadata": {},
   "outputs": [
    {
     "name": "stdout",
     "output_type": "stream",
     "text": [
      "[2 1 3 0]\n[1 2 3 4]\n"
     ]
    }
   ],
   "source": [
    "a = np.array([4, 2, 1, 3])\n",
    "b = np.argsort(a)\n",
    "print(b)\n",
    "print(a[b])"
   ]
  },
  {
   "cell_type": "code",
   "execution_count": null,
   "metadata": {},
   "outputs": [],
   "source": []
  }
 ],
 "metadata": {
  "kernelspec": {
   "display_name": "Python 2",
   "language": "python",
   "name": "python2"
  },
  "language_info": {
   "codemirror_mode": {
    "name": "ipython",
    "version": 2
   },
   "file_extension": ".py",
   "mimetype": "text/x-python",
   "name": "python",
   "nbconvert_exporter": "python",
   "pygments_lexer": "ipython2",
   "version": "2.7.6"
  }
 },
 "nbformat": 4,
 "nbformat_minor": 0
}
