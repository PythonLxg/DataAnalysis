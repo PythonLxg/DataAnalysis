{
 "cells": [
  {
   "cell_type": "code",
   "execution_count": 1,
   "metadata": {
    "collapsed": true
   },
   "outputs": [
    {
     "name": "stdout",
     "output_type": "stream",
     "text": [
      "0    1\n1    2\n2    3\n3    4\ndtype: int64\na    10\nb    20\nc    30\ndtype: int64\na    10\nb    11\nc    12\nd    13\ne    14\nf    15\ndtype: int32\n"
     ]
    }
   ],
   "source": [
    "import pandas as pd\n",
    "import numpy as np\n",
    "\n",
    "l = [1, 2, 3, 4]\n",
    "s = pd.Series(l)     # 通过列表创建Series\n",
    "print(s)\n",
    "\n",
    "d = {'a': 10, 'b': 20, 'c': 30}     # 通过字典创建Series,Series是有序的\n",
    "s1 = pd.Series(d)\n",
    "print(s1)\n",
    "\n",
    "array_1 = np.arange(10, 16)         # 通过数组array创建Series\n",
    "s2 = pd.Series(array_1, index=list('abcdef'))\n",
    "print(s2)"
   ]
  },
  {
   "cell_type": "code",
   "execution_count": 2,
   "metadata": {},
   "outputs": [
    {
     "name": "stdout",
     "output_type": "stream",
     "text": [
      "Index(['a', 'b', 'c', 'd', 'e', 'f'], dtype='object')\nb\naa    10\nbb    11\ncc    12\ndd    13\nee    14\nff    15\ndtype: int32\nli\naa    10\nbb    11\ncc    12\ndd    13\nee    14\nff    15\ndtype: int32\nli\naa    10\nbb    11\ncc    12\ndd    13\nee    14\nff    15\nName: length, dtype: int32\n[10 11 12 13 14 15]\n"
     ]
    },
    {
     "data": {
      "text/plain": [
       "[10, 11, 12, 13, 14, 15]"
      ]
     },
     "execution_count": 2,
     "metadata": {},
     "output_type": "execute_result"
    }
   ],
   "source": [
    "print(s2.index)             # 获取Series的index\n",
    "print(s2.index[1])\n",
    "\n",
    "s2.index = ['aa', 'bb', 'cc', 'dd', 'ee', 'ff']     # 可以通过赋值整体的修改索引值\n",
    "print(s2)\n",
    "\n",
    "s2.index.name = 'li'        # 修改index的名称\n",
    "print(s2)\n",
    "\n",
    "s2.name = 'length'          # 修改Series的名称\n",
    "print(s2)\n",
    "\n",
    "print(s2.values)        # 获取Series的值values\n",
    "[i for i in s2.values]"
   ]
  },
  {
   "cell_type": "code",
   "execution_count": 3,
   "metadata": {},
   "outputs": [
    {
     "name": "stdout",
     "output_type": "stream",
     "text": [
      "10\n15\nli\naa    10\ndd    13\nff    15\nName: length, dtype: int32\n10\n"
     ]
    },
    {
     "data": {
      "text/plain": [
       "li\naa    10\ncc    12\nff    15\nName: length, dtype: int32"
      ]
     },
     "execution_count": 3,
     "metadata": {},
     "output_type": "execute_result"
    }
   ],
   "source": [
    "# Series的索引\n",
    "# 位置索引\n",
    "print(s2[0])\n",
    "print(s2[-1])\n",
    "print(s2[[0, 3, 5]])\n",
    "\n",
    "# 名称索引\n",
    "print(s2['aa'])\n",
    "s2[['aa', 'cc', 'ff']]"
   ]
  },
  {
   "cell_type": "code",
   "execution_count": 4,
   "metadata": {},
   "outputs": [
    {
     "name": "stdout",
     "output_type": "stream",
     "text": [
      "li\nbb    11\ncc    12\ndd    13\nName: length, dtype: int32\nli\naa    10\nbb    11\ncc    12\ndd    13\nee    14\nName: length, dtype: int32\n"
     ]
    }
   ],
   "source": [
    "# Series的切片slice\n",
    "# 索引位置切片\n",
    "print(s2[1:4])      # 不包含末端\n",
    "\n",
    "# 索引名称切片\n",
    "print(s2['aa': 'ee'])       # 包含末端\n"
   ]
  },
  {
   "cell_type": "code",
   "execution_count": 5,
   "metadata": {},
   "outputs": [
    {
     "name": "stdout",
     "output_type": "stream",
     "text": [
      "li\naa    10\nbb    11\ncc    12\ndd    13\nee    14\nff    15\nName: length, dtype: int32\nli\naa     10\nbb     11\ncc    666\ndd     13\nee    100\nff     15\nName: length, dtype: int32\n"
     ]
    }
   ],
   "source": [
    "# 修改Series的值\n",
    "print(s2)\n",
    "s2['ee'] = 100      # 通过索引名称修改值\n",
    "\n",
    "s2[2] = 666         # 通过位置修改值\n",
    "print(s2)"
   ]
  },
  {
   "cell_type": "code",
   "execution_count": 6,
   "metadata": {},
   "outputs": [
    {
     "name": "stdout",
     "output_type": "stream",
     "text": [
      "li\naa     10\nbb     11\ncc    666\ndd     13\nee    100\nff     15\nName: length, dtype: int32\naa     10\nbb     11\ncc    666\ndd     13\nee    100\nff     15\ngg     22\nhh     33\ndtype: int64\nli\naa     10\nbb     11\ncc    666\ndd     13\nee    100\nff     15\nName: length, dtype: int32\nli\naa      10\nbb      11\ncc     666\ndd      13\nee     100\nff      15\njj    1234\nName: length, dtype: int64\n"
     ]
    }
   ],
   "source": [
    "# 添加Series的值\n",
    "print(s2)\n",
    "print(s2.append(pd.Series([22, 33], index=['gg', 'hh'])))  # 批量修改，创建新的对象，并不会修改原Series    \n",
    "print(s2)\n",
    "\n",
    "s2['jj'] = 1234        # 增加单个元素，在原处修改\n",
    "print(s2)"
   ]
  },
  {
   "cell_type": "code",
   "execution_count": 7,
   "metadata": {},
   "outputs": [
    {
     "name": "stdout",
     "output_type": "stream",
     "text": [
      "li\naa      10\nbb      11\ncc     666\ndd      13\nee     100\nff      15\njj    1234\nName: length, dtype: int64\nli\naa      10\ncc     666\ndd      13\nee     100\nff      15\njj    1234\nName: length, dtype: int64\n"
     ]
    }
   ],
   "source": [
    "# 删除Series的值\n",
    "print(s2)\n",
    "del s2['bb']\n",
    "print(s2)"
   ]
  },
  {
   "cell_type": "code",
   "execution_count": 8,
   "metadata": {},
   "outputs": [
    {
     "name": "stdout",
     "output_type": "stream",
     "text": [
      "a    2\nb    3\nc    6\nd    1\ne    8\ndtype: int64\nc    6\ne    8\ndtype: int64\nd    1\ne    8\ndtype: int64\n"
     ]
    }
   ],
   "source": [
    "# 过滤Series的值\n",
    "s = pd.Series([2, 3, 6, 1, 8], index=list('abcde'))\n",
    "print(s)\n",
    "print(s[s > 3])\n",
    "print(s[(s < 2) | (s > 6)])"
   ]
  },
  {
   "cell_type": "code",
   "execution_count": 9,
   "metadata": {},
   "outputs": [
    {
     "name": "stdout",
     "output_type": "stream",
     "text": [
      "0    False\n1    False\n2     True\n3    False\n4    False\n5     True\ndtype: bool\n2   NaN\n5   NaN\ndtype: float64\n0    3.0\n1    5.0\n3    8.0\n4    1.0\ndtype: float64\n0    3.0\n1    5.0\n3    8.0\n4    1.0\ndtype: float64\n"
     ]
    }
   ],
   "source": [
    "# Series的缺失值处理\n",
    "s = pd.Series([3, 5, np.nan, 8, 1, None])\n",
    "print(s.isnull())           # 判断是否有缺失值\n",
    "print(s[s.isnull()])\n",
    "\n",
    "print(s.dropna())      # 删除缺失值，没有改变原Series。可以通过s = s.dropna()原处修改\n",
    "print(s[~s.isnull()])       # 同s.dropna()一样，和s[s.notnull()]一样"
   ]
  },
  {
   "cell_type": "code",
   "execution_count": 10,
   "metadata": {},
   "outputs": [
    {
     "name": "stdout",
     "output_type": "stream",
     "text": [
      "0    3.0\n1    5.0\n2    0.0\n3    8.0\n4    1.0\n5    0.0\ndtype: float64\nNone\n0    3.0\n1    5.0\n2    0.0\n3    8.0\n4    1.0\n5    0.0\ndtype: float64\n0    3.0\n1    6.0\n2    6.0\n3    6.0\n4    7.0\ndtype: float64\n"
     ]
    }
   ],
   "source": [
    "# 填充缺失值\n",
    "print(s.fillna(value=0))        # 创建新的Series，并没有修改原Series\n",
    "print(s.fillna(value=0, inplace=True))        # 在原处修改Series\n",
    "print(s)\n",
    "\n",
    "s1 = pd.Series([3, 6, np.nan, None, 7])\n",
    "print(s1.fillna(method='ffill'))      # 通过插值填充缺失值"
   ]
  },
  {
   "cell_type": "code",
   "execution_count": 11,
   "metadata": {},
   "outputs": [
    {
     "name": "stdout",
     "output_type": "stream",
     "text": [
      "s    10\nd    22\nf    15\ng     9\nh    30\ndtype: int64\nd    22\nf    15\ng     9\nh    30\ns    10\ndtype: int64\ns    10\nh    30\ng     9\nf    15\nd    22\ndtype: int64\ng     9\ns    10\nf    15\nd    22\nh    30\ndtype: int64\nh    30\nd    22\nf    15\ns    10\ng     9\ndtype: int64\n"
     ]
    }
   ],
   "source": [
    "# 排序\n",
    "s3 = pd.Series([10, 22, 15, 9, 30], index=list('sdfgh'))\n",
    "print(s3)\n",
    "print(s3.sort_index())      # 根据索引排序，默认升序\n",
    "print(s3.sort_index(ascending=False)) \n",
    "\n",
    "print(s3.sort_values())     # 根据值排序，默认升序\n",
    "print(s3.sort_values(ascending=False))"
   ]
  },
  {
   "cell_type": "code",
   "execution_count": 12,
   "metadata": {},
   "outputs": [
    {
     "name": "stdout",
     "output_type": "stream",
     "text": [
      "0    2\n1    5\n2    1\n3    2\n4    5\n5    8\n6    3\n7    9\ndtype: int64\n0    5.0\n1    3.0\n2    6.0\n3    5.0\n4    3.0\n5    2.0\n6    4.0\n7    1.0\ndtype: float64\n"
     ]
    }
   ],
   "source": [
    "# 排名\n",
    "s4 = pd.Series([2, 5, 1, 2, 5, 8, 3, 9])\n",
    "print(s4)\n",
    "print(s4.rank(ascending=False, method='dense'))     # 中国式排名。method有max，min...."
   ]
  },
  {
   "cell_type": "code",
   "execution_count": 13,
   "metadata": {},
   "outputs": [
    {
     "name": "stdout",
     "output_type": "stream",
     "text": [
      "5    2\n2    2\n9    1\n3    1\n1    1\n8    1\ndtype: int64\n9\n1\ncount    8.00\nmean     4.38\nstd      2.92\nmin      1.00\n25%      2.00\n50%      4.00\n75%      5.75\nmax      9.00\ndtype: float64\n"
     ]
    }
   ],
   "source": [
    "# 描述性统计\n",
    "print(s4.value_counts())        # 值的计数\n",
    "print(s4.max())        # 最大值\n",
    "print(s4.min())        # 最小值\n",
    "print(s4.describe().round(2))       # 描述性统计"
   ]
  },
  {
   "cell_type": "code",
   "execution_count": 14,
   "metadata": {},
   "outputs": [
    {
     "name": "stdout",
     "output_type": "stream",
     "text": [
      "0    102\n1    105\n2    101\n3    102\n4    105\n5    108\n6    103\n7    109\ndtype: int64\n"
     ]
    }
   ],
   "source": [
    "# Series的向量化计算\n",
    "print(s4 + 100)     # 返回一个新的Series，并不会修改原Series。也有+，-，*，/操作"
   ]
  },
  {
   "cell_type": "code",
   "execution_count": 15,
   "metadata": {},
   "outputs": [
    {
     "name": "stdout",
     "output_type": "stream",
     "text": [
      "a     3.0\nd     NaN\ne     NaN\nf     NaN\ng    12.0\nl     NaN\nr     NaN\ns     NaN\ndtype: float64\n"
     ]
    }
   ],
   "source": [
    "s1 = pd.Series([2, 5, 3, 8, 4], index=list('asdfg'))\n",
    "s2 = pd.Series([1, 5, 4, 8, 9], index=list('aelgr'))\n",
    "print(s1 + s2)          # 自动对齐相同索引的值，不同索引的显示NaN"
   ]
  },
  {
   "cell_type": "code",
   "execution_count": null,
   "metadata": {},
   "outputs": [],
   "source": []
  }
 ],
 "metadata": {
  "kernelspec": {
   "display_name": "Python 2",
   "language": "python",
   "name": "python2"
  },
  "language_info": {
   "codemirror_mode": {
    "name": "ipython",
    "version": 2
   },
   "file_extension": ".py",
   "mimetype": "text/x-python",
   "name": "python",
   "nbconvert_exporter": "python",
   "pygments_lexer": "ipython2",
   "version": "2.7.6"
  }
 },
 "nbformat": 4,
 "nbformat_minor": 0
}
