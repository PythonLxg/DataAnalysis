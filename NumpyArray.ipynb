{
 "cells": [
  {
   "cell_type": "code",
   "execution_count": 1,
   "metadata": {
    "collapsed": true
   },
   "outputs": [
    {
     "name": "stdout",
     "output_type": "stream",
     "text": [
      "[1. 2. 3. 4.] (4,) float64\n[[1 2 3]\n [4 5 6]\n [7 8 9]] (3, 3) int32\n[1. 2. 3.]\n3.0\n[1 4 7]\n[[4 5]\n [7 8]]\n"
     ]
    }
   ],
   "source": [
    "# numpy.array\n",
    "import numpy as np\n",
    "\n",
    "vector = np.array([1, 2, 3, 4.0])\n",
    "matrix = np.array([[1, 2, 3],\n",
    "                   [4, 5, 6],\n",
    "                   [7, 8, 9]])\n",
    "\n",
    "print(vector, vector.shape, vector.dtype)\n",
    "print(matrix, matrix.shape, matrix.dtype)\n",
    "\n",
    "# 按行列截取\n",
    "print(vector[: 3])\n",
    "print(vector[2])\n",
    "\n",
    "print(matrix[:, 0])\n",
    "print(matrix[1:3, 0:2])"
   ]
  },
  {
   "cell_type": "code",
   "execution_count": 2,
   "metadata": {},
   "outputs": [
    {
     "name": "stdout",
     "output_type": "stream",
     "text": [
      "[False False  True False]\n[ True False  True False]\n[7]\n[1 7]\n"
     ]
    }
   ],
   "source": [
    "vector = np.array([1, 8, 7, 4])\n",
    "# 按条件截取\n",
    "v = (vector == 7)\n",
    "v1 = (vector == 1) | (vector == 7)\n",
    "print(v)\n",
    "print(v1)\n",
    "print(vector[v])\n",
    "print(vector[v1])"
   ]
  },
  {
   "cell_type": "code",
   "execution_count": 3,
   "metadata": {},
   "outputs": [
    {
     "name": "stdout",
     "output_type": "stream",
     "text": [
      "[ True False False]\n[[ 1 12  3]]\n"
     ]
    }
   ],
   "source": [
    "matrix = np.array([[1, 12, 3],\n",
    "                   [4, 22, 6],\n",
    "                   [7, 18, 9]])\n",
    "m = matrix[:, 1] == 12\n",
    "print(m)\n",
    "print(matrix[m, :])"
   ]
  },
  {
   "cell_type": "code",
   "execution_count": 4,
   "metadata": {},
   "outputs": [
    {
     "name": "stdout",
     "output_type": "stream",
     "text": [
      "<U1\nfloat64\n[1. 8. 7. 4.]\n[ True  True  True  True]\nbool\n"
     ]
    }
   ],
   "source": [
    "vector = np.array(['1', '8', '7', '4'])\n",
    "print(vector.dtype)\n",
    "vector = vector.astype(np.float64)      # vector = vector.astype('float64')\n",
    "print(vector.dtype)\n",
    "print(vector)\n",
    "v = vector.astype(np.bool_)\n",
    "print(v)\n",
    "print(v.dtype)"
   ]
  },
  {
   "cell_type": "code",
   "execution_count": 5,
   "metadata": {},
   "outputs": [
    {
     "name": "stdout",
     "output_type": "stream",
     "text": [
      "1\n8\n"
     ]
    }
   ],
   "source": [
    "vector = np.array([1, 8, 7, 4])\n",
    "print(vector.min())\n",
    "print(vector.max())"
   ]
  },
  {
   "cell_type": "code",
   "execution_count": 6,
   "metadata": {},
   "outputs": [
    {
     "name": "stdout",
     "output_type": "stream",
     "text": [
      "[[ 1 12  3]\n [ 4 22  6]\n [ 7 18  9]]\n"
     ]
    }
   ],
   "source": [
    "matrix = np.array([[1, 12, 3],\n",
    "                   [4, 22, 6],\n",
    "                   [7, 18, 9]])\n",
    "\n",
    "print(matrix)\n",
    "matrix.sum(axis=1)      # 按行求和，按列求和axis=0"
   ]
  },
  {
   "cell_type": "code",
   "execution_count": 7,
   "metadata": {},
   "outputs": [
    {
     "name": "stdout",
     "output_type": "stream",
     "text": [
      "[ 0  1  2  3  4  5  6  7  8  9 10 11 12 13 14]\n[[ 0  1  2  3  4]\n [ 5  6  7  8  9]\n [10 11 12 13 14]]\n(3, 5)\n2\nint32\n15\n4\n"
     ]
    }
   ],
   "source": [
    "print(np.arange(15))\n",
    "a = np.arange(15).reshape((3, 5))\n",
    "print(a)\n",
    "print(a.shape)\n",
    "print(a.ndim)\n",
    "print(a.dtype)\n",
    "print(a.size)\n",
    "print(a.itemsize)"
   ]
  },
  {
   "cell_type": "code",
   "execution_count": 8,
   "metadata": {},
   "outputs": [
    {
     "name": "stdout",
     "output_type": "stream",
     "text": [
      "[[0. 0. 0. 0.]\n [0. 0. 0. 0.]\n [0. 0. 0. 0.]]\n[[[1 1 1 1]\n  [1 1 1 1]\n  [1 1 1 1]]\n\n [[1 1 1 1]\n  [1 1 1 1]\n  [1 1 1 1]]]\n[[1 0 0 0]\n [0 1 0 0]\n [0 0 1 0]\n [0 0 0 1]]\n[[8.96224980e-312 2.47032823e-322 0.00000000e+000 0.00000000e+000]\n [0.00000000e+000 3.69776220e-062 6.87152680e-091 2.42259161e-052]\n [6.58717425e-043 1.79740021e-052 3.99910963e+252 1.46030983e-319]]\n"
     ]
    }
   ],
   "source": [
    "a = np.zeros((3, 4))\n",
    "b = np.ones((2, 3, 4), dtype=np.int32)\n",
    "c = np.eye(4, dtype=np.int64)       # 单位矩阵\n",
    "d = np.empty((3, 4))        # 创建空矩阵，实际有值\n",
    "print(a)\n",
    "print(b)\n",
    "print(c)\n",
    "print(d)"
   ]
  },
  {
   "cell_type": "code",
   "execution_count": 9,
   "metadata": {},
   "outputs": [
    {
     "name": "stdout",
     "output_type": "stream",
     "text": [
      "[[0.04771146 0.89464438 0.07996002]\n [0.54515884 0.73799944 0.98783379]]\n[0.         0.33333333 0.66666667 1.         1.33333333 1.66666667\n 2.         2.33333333 2.66666667 3.         3.33333333 3.66666667\n 4.         4.33333333 4.66666667 5.        ]\n[[0.         0.33333333 0.66666667 1.        ]\n [1.33333333 1.66666667 2.         2.33333333]\n [2.66666667 3.         3.33333333 3.66666667]\n [4.         4.33333333 4.66666667 5.        ]]\n"
     ]
    }
   ],
   "source": [
    "a = np.random.random((2, 3))\n",
    "print(a)\n",
    "b = np.linspace(0, 5, 16)       # 5 能取到\n",
    "b1 = b.reshape((4, 4))\n",
    "print(b)\n",
    "print(b1)"
   ]
  },
  {
   "cell_type": "code",
   "execution_count": 10,
   "metadata": {},
   "outputs": [],
   "source": [
    "a = np.array([10, 15, 12, 16])\n",
    "b = np.arange(4)\n",
    "c = a - b\n",
    "c1 = c - 1\n",
    "print(c)\n",
    "print(c1)\n",
    "d = b ** 2\n",
    "q = a < 15\n",
    "print(d)\n",
    "print(q)"
   ]
  },
  {
   "cell_type": "code",
   "execution_count": 11,
   "metadata": {},
   "outputs": [
    {
     "name": "stdout",
     "output_type": "stream",
     "text": [
      "[[ 5 12]\n [21 32]]\n------\n[[19 22]\n [43 50]]\n------\n[[19 22]\n [43 50]]\n"
     ]
    }
   ],
   "source": [
    "A = np.array([[1, 2],\n",
    "              [3, 4]])\n",
    "B = np.array([[5, 6],\n",
    "              [7, 8]])\n",
    "print(A*B)      # 对应位置相乘\n",
    "print('------')\n",
    "print(A.dot(B))     # 矩阵相乘,点乘\n",
    "print('------')\n",
    "print(np.dot(A, B))     # 矩阵相乘，点乘"
   ]
  },
  {
   "cell_type": "code",
   "execution_count": 12,
   "metadata": {},
   "outputs": [
    {
     "name": "stdout",
     "output_type": "stream",
     "text": [
      "[ 97  98  99 100 103 104]\n"
     ]
    },
    {
     "name": "stderr",
     "output_type": "stream",
     "text": [
      "C:\\Users\\lxg\\Documents\\Python\\Practice\\venv\\lib\\site-packages\\ipykernel_launcher.py:2: DeprecationWarning: The binary mode of fromstring is deprecated, as it behaves surprisingly on unicode inputs. Use frombuffer instead\n  \n"
     ]
    }
   ],
   "source": [
    "a = 'abcdgh'\n",
    "b = np.fromstring(a, dtype=np.int8)\n",
    "print(b)"
   ]
  },
  {
   "cell_type": "code",
   "execution_count": null,
   "metadata": {},
   "outputs": [],
   "source": []
  }
 ],
 "metadata": {
  "kernelspec": {
   "display_name": "Python 2",
   "language": "python",
   "name": "python2"
  },
  "language_info": {
   "codemirror_mode": {
    "name": "ipython",
    "version": 2
   },
   "file_extension": ".py",
   "mimetype": "text/x-python",
   "name": "python",
   "nbconvert_exporter": "python",
   "pygments_lexer": "ipython2",
   "version": "2.7.6"
  }
 },
 "nbformat": 4,
 "nbformat_minor": 0
}
