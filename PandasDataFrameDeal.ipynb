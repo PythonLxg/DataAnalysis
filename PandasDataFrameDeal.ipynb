{
 "cells": [
  {
   "cell_type": "code",
   "execution_count": 1,
   "metadata": {
    "collapsed": true
   },
   "outputs": [
    {
     "name": "stdout",
     "output_type": "stream",
     "text": [
      "    name      city  age\n0    ray  hangzhou   10\n1   jack   beijing   30\n2   lucy  hangzhou   20\n3    bob   chengdu   15\n4  candy    suzhou   50\n"
     ]
    }
   ],
   "source": [
    "import pandas as pd\n",
    "import numpy as np\n",
    "\n",
    "df = pd.DataFrame({'name': ['ray', 'jack', 'lucy', 'bob', 'candy'],\n",
    "                   'age': [10, 30, 20, 15, 50],\n",
    "                   'city': ['hangzhou', 'beijing', 'hangzhou', 'chengdu', 'suzhou']},\n",
    "                  columns=['name', 'city', 'age'])\n",
    "print(df)"
   ]
  },
  {
   "cell_type": "code",
   "execution_count": 2,
   "metadata": {},
   "outputs": [
    {
     "name": "stdout",
     "output_type": "stream",
     "text": [
      "name     candy\ncity    suzhou\nage         50\nName: 4, dtype: object\n    name    city  age\n4  candy  suzhou   50\n"
     ]
    }
   ],
   "source": [
    "# 选取行操作\n",
    "print(df.loc[4])        # 返回Series形式，根据索引标签选取\n",
    "print(df.loc[[4]])      # 返回DataFrame形式"
   ]
  },
  {
   "cell_type": "code",
   "execution_count": 3,
   "metadata": {},
   "outputs": [
    {
     "name": "stdout",
     "output_type": "stream",
     "text": [
      "    name      city  age\n0    ray  hangzhou   10\n1   jack   beijing   30\n2   lucy  hangzhou   20\n3    bob   chengdu   15\n4  candy    suzhou   50\n5   baby  shanghai   40\n"
     ]
    }
   ],
   "source": [
    "# 添加行\n",
    "df.loc[5] = ['baby', 'shanghai', 40]\n",
    "print(df)"
   ]
  },
  {
   "cell_type": "code",
   "execution_count": 4,
   "metadata": {},
   "outputs": [
    {
     "name": "stdout",
     "output_type": "stream",
     "text": [
      "    name       city  age\n0    ray   hangzhou   10\n1   jack    beijing   30\n2   lucy   hangzhou   20\n3    bob    chengdu   15\n4  candy     suzhou   50\n5   baby   shanghai   40\n0     li  guangzhou   35\n1   wang   shenzhen   56\n------\n    name       city  age\n0    ray   hangzhou   10\n1   jack    beijing   30\n2   lucy   hangzhou   20\n3    bob    chengdu   15\n4  candy     suzhou   50\n5   baby   shanghai   40\n6     li  guangzhou   35\n7   wang   shenzhen   56\n-------\n    name       city  age\n0    ray   hangzhou   10\n1   jack    beijing   30\n2   lucy   hangzhou   20\n3    bob    chengdu   15\n4  candy     suzhou   50\n5   baby   shanghai   40\n6     li  guangzhou   35\n7   wang   shenzhen   56\n"
     ]
    }
   ],
   "source": [
    "df1 = pd.DataFrame({'name': ['li', 'wang'], 'city': ['guangzhou', 'shenzhen'], 'age': [35, 56]})\n",
    "print(df.append(df1))\n",
    "print('------')\n",
    "print(df.append(df1, ignore_index=True))\n",
    "print('-------')\n",
    "print(pd.concat([df, df1], ignore_index=True))"
   ]
  },
  {
   "cell_type": "code",
   "execution_count": 5,
   "metadata": {},
   "outputs": [
    {
     "name": "stdout",
     "output_type": "stream",
     "text": [
      "    name      city  age\n0    ray  hangzhou   10\n1   jack   beijing   30\n2   lucy  hangzhou   20\n3    bob   chengdu   15\n4  candy    suzhou   50\n-------\n    name      city  age\n0    ray  hangzhou   10\n1   jack   beijing   30\n2   lucy  hangzhou   20\n4  candy    suzhou   50\n"
     ]
    }
   ],
   "source": [
    "# 删除行\n",
    "print(df.drop(5))       # 可以原处修改加inplace=True，默认axis=0\n",
    "print('-------')\n",
    "print(df.drop([3, 5]))"
   ]
  },
  {
   "cell_type": "code",
   "execution_count": 6,
   "metadata": {},
   "outputs": [
    {
     "name": "stdout",
     "output_type": "stream",
     "text": [
      "    name      city  age\n0  demon  hangzhou   33\n1   jack   beijing   30\n2   lucy  hangzhou   20\n3    bob   chengdu   15\n4  candy    suzhou   50\n5   baby  shanghai   40\n"
     ]
    }
   ],
   "source": [
    "# 修改行\n",
    "df.loc[0] = ['demon', 'hangzhou', 33]   # df.loc[0:3]=[['demon', 'asd', 'fg'],['hangzhou', 'sdg', 'zxc'], [33, 34, 56]]\n",
    "print(df)"
   ]
  },
  {
   "cell_type": "code",
   "execution_count": 7,
   "metadata": {},
   "outputs": [
    {
     "name": "stdout",
     "output_type": "stream",
     "text": [
      "    name  height      city  age  sex\n0  demon     170  hangzhou   33  nan\n1   jack     168   beijing   30   nv\n2   lucy     188  hangzhou   20  nan\n3    bob     175   chengdu   15   nv\n4  candy     190    suzhou   50  nan\n5   baby     169  shanghai   40  nan\n"
     ]
    }
   ],
   "source": [
    "# 增加列\n",
    "df['sex'] = ['nan', 'nv', 'nan', 'nv', 'nan', 'nan']        # 末尾增加列\n",
    "df.insert(1, 'height', [170, 168, 188, 175, 190, 169])      # 任意位置插入新列\n",
    "print(df)\n",
    "# 修改列 df['sex'] = 'nan'"
   ]
  },
  {
   "cell_type": "code",
   "execution_count": 8,
   "metadata": {},
   "outputs": [
    {
     "name": "stdout",
     "output_type": "stream",
     "text": [
      "    name  height      city  age  sex\n0  demon     170  hangzhou   33  nan\n1   jack     168   beijing   30   nv\n2   lucy     188  hangzhou   20  nan\n3    bob     175   chengdu   15   nv\n4  candy     190    suzhou   50  nan\n5   baby     169  shanghai   40  nan\n"
     ]
    }
   ],
   "source": [
    "# 删除列\n",
    "df.drop(['sex'], axis=1)\n",
    "# del df['height']  在原处修改\n",
    "print(df)"
   ]
  },
  {
   "cell_type": "code",
   "execution_count": 9,
   "metadata": {},
   "outputs": [
    {
     "name": "stdout",
     "output_type": "stream",
     "text": [
      "   name  height_x      city  age  sex  height_y\n0  jack       168   beijing   30   nv       178\n1  lucy       188  hangzhou   20  nan       188\n  key  value_x  value_y\n0   a        0       10\n3   a        3       10\n2   b        2       20\n"
     ]
    }
   ],
   "source": [
    "df1 = pd.DataFrame({'name': ['jack', 'lucy'], 'height': [178, 188]})\n",
    "a = pd.merge(df, df1, on='name', how='inner')   # 指定列名name，inner交集，outer并集，left保左加右，right保右加左\n",
    "# pd.merge(df_1, df_2, left_on='name_1', right_on='name_2', how='inner')    列名不一样时 \n",
    "# 多个键 on=['name', 'age']\n",
    "print(a)\n",
    "\n",
    "left = pd.DataFrame({'key': list('acba'), 'value': range(4)})\n",
    "right = pd.DataFrame({'value': [10, 20]}, index=['a', 'b'])\n",
    "print(pd.merge(left, right, left_on='key', right_index=True, how='inner'))  # 将索引作为键来合并"
   ]
  },
  {
   "cell_type": "code",
   "execution_count": 10,
   "metadata": {},
   "outputs": [
    {
     "name": "stdout",
     "output_type": "stream",
     "text": [
      "    name  height      city  age  sex\n0  demon     170  hangzhou   33  nan\n1   jack     168   beijing   30   nv\n2   lucy     188  hangzhou   20  nan\n3    bob     175   chengdu   15   nv\n4  candy     190    suzhou   50  nan\n5   baby     169  shanghai   40  nan\n"
     ]
    }
   ],
   "source": [
    "# df.combine_first(df2) 相当于df2给df重叠部分的缺失值打补丁\n",
    "print(df)"
   ]
  },
  {
   "cell_type": "code",
   "execution_count": 11,
   "metadata": {},
   "outputs": [
    {
     "name": "stdout",
     "output_type": "stream",
     "text": [
      "    name  height      city  age  sex 员工等级\n0  demon     170  hangzhou   33  nan  老员工\n1   jack     168   beijing   30   nv  新员工\n2   lucy     188  hangzhou   20  nan  新员工\n3    bob     175   chengdu   15   nv  新员工\n4  candy     190    suzhou   50  nan  老员工\n5   baby     169  shanghai   40  nan  老员工\n"
     ]
    }
   ],
   "source": [
    "# 数据分组\n",
    "df['员工等级'] = np.where(df['age'] <= 30, '新员工', '老员工')        # 划分两组\n",
    "# df.loc[df[age]<=30 & df[sex] = 'nv', '性别划分'] = '新女员工'       划分多组\n",
    "print(df)"
   ]
  },
  {
   "cell_type": "code",
   "execution_count": 12,
   "metadata": {},
   "outputs": [],
   "source": [
    "# 拆分\n",
    "# df1 = pd.DataFrame([i.split('-') for i in df['height_age']], index=df.index, columns=['height','age']) \n",
    "# 合并\n",
    "# df['height_age'] = df['height'].apply(str)+ '-' +df['age'].apply(str)         apply函数用于DataFrame的行或列"
   ]
  },
  {
   "cell_type": "code",
   "execution_count": 13,
   "metadata": {},
   "outputs": [
    {
     "name": "stdout",
     "output_type": "stream",
     "text": [
      "    name  height      city  age  sex 员工等级\n3    bob     175   chengdu   15   nv  新员工\n2   lucy     188  hangzhou   20  nan  新员工\n1   jack     168   beijing   30   nv  新员工\n0  demon     170  hangzhou   33  nan  老员工\n5   baby     169  shanghai   40  nan  老员工\n4  candy     190    suzhou   50  nan  老员工\n-------\n    name  height      city  age  sex 员工等级\n0  demon     170  hangzhou   33  nan  老员工\n1   jack     168   beijing   30   nv  新员工\n2   lucy     188  hangzhou   20  nan  新员工\n3    bob     175   chengdu   15   nv  新员工\n4  candy     190    suzhou   50  nan  老员工\n5   baby     169  shanghai   40  nan  老员工\n"
     ]
    }
   ],
   "source": [
    "# 排序\n",
    "# 根据某个字段的值进行排序\n",
    "print(df.sort_values(by='age'))     # 默认升序，ascending=False降序\n",
    "# print(df.sort_values(by=['age', 'name'],ascending=[True,False])) age为一级关键字升序，name为二级关键字降序\n",
    "print('-------')\n",
    "print(df.sort_index())      # 根据索引排序"
   ]
  },
  {
   "cell_type": "code",
   "execution_count": 14,
   "metadata": {},
   "outputs": [
    {
     "name": "stdout",
     "output_type": "stream",
     "text": [
      "    name  height      city  age  sex 员工等级  age_rank\n0  demon     170  hangzhou   33  nan  老员工       4.0\n1   jack     168   beijing   30   nv  新员工       3.0\n2   lucy     188  hangzhou   20  nan  新员工       2.0\n3    bob     175   chengdu   15   nv  新员工       1.0\n4  candy     190    suzhou   50  nan  老员工       6.0\n5   baby     169  shanghai   40  nan  老员工       5.0\n"
     ]
    }
   ],
   "source": [
    "# 排名\n",
    "df['age_rank'] = df['age'].rank(method='dense')         # 中国式排名\n",
    "print(df)"
   ]
  },
  {
   "cell_type": "code",
   "execution_count": 15,
   "metadata": {},
   "outputs": [
    {
     "name": "stdout",
     "output_type": "stream",
     "text": [
      "   name  height\n0  jack     178\n1  lucy     188\n-----\n           0     1\nname    jack  lucy\nheight   178   188\n"
     ]
    }
   ],
   "source": [
    "print(df1)\n",
    "print('-----')\n",
    "print(df1.T)        # 转置"
   ]
  },
  {
   "cell_type": "code",
   "execution_count": null,
   "metadata": {},
   "outputs": [],
   "source": []
  }
 ],
 "metadata": {
  "kernelspec": {
   "display_name": "Python 2",
   "language": "python",
   "name": "python2"
  },
  "language_info": {
   "codemirror_mode": {
    "name": "ipython",
    "version": 2
   },
   "file_extension": ".py",
   "mimetype": "text/x-python",
   "name": "python",
   "nbconvert_exporter": "python",
   "pygments_lexer": "ipython2",
   "version": "2.7.6"
  }
 },
 "nbformat": 4,
 "nbformat_minor": 0
}
