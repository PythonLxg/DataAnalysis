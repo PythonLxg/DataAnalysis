{
 "cells": [
  {
   "cell_type": "code",
   "execution_count": 1,
   "metadata": {
    "collapsed": true
   },
   "outputs": [
    {
     "name": "stdout",
     "output_type": "stream",
     "text": [
      "      a    b\n0   100  200\n1   101  201\n2   102  202\n3   103  203\n4   104  204\n5   105  205\n6   106  206\n7   107  207\n8   108  208\n9   109  209\n10  110  210\n       b   a\n2015  24  11\n2016  13  19\n2017  17  16\n       a   b\n2017  16  17\n2015  11  24\n2016  19  13\n      aa  bb  cc  dd\n2015   0   1   2   3\n2016   4   5   6   7\n2017   8   9  10  11\n"
     ]
    }
   ],
   "source": [
    "import numpy as np\n",
    "import pandas as pd\n",
    "\n",
    "df1 = pd.DataFrame({'a': range(100, 111), 'b': range(200, 211)})        # 通过单层字典创建DataFrame\n",
    "print(df1)\n",
    "\n",
    "data = {'b': {2016: 13, 2015: 24, 2017: 17}, 'a': {2015: 11, 2017: 16, 2016: 19}}  # 多层字典创建DataFrame\n",
    "df2 = pd.DataFrame(data)\n",
    "df3 = pd.DataFrame(data, index=[2017, 2015, 2016], columns=['a', 'b'])      # 显示指定索引和列名的顺序\n",
    "print(df2)\n",
    "print(df3)\n",
    "\n",
    "# 通过数组创建DataFrame\n",
    "df4 = pd.DataFrame(np.arange(12).reshape((3, 4)), index=[2015, 2016, 2017], columns=['aa', 'bb', 'cc', 'dd'])\n",
    "print(df4)\n",
    "\n",
    "# 从外部导入DataFrame。pd.read_csv(文件路径，encoding='gbk')\n",
    "# 导出csv文件。df4.to_csv(文件路径名)"
   ]
  },
  {
   "cell_type": "code",
   "execution_count": 2,
   "metadata": {},
   "outputs": [
    {
     "name": "stdout",
     "output_type": "stream",
     "text": [
      "     a    b\n0  100  200\n1  101  201\n2  102  202\n3  103  203\n4  104  204\n      a    b\n6   106  206\n7   107  207\n8   108  208\n9   109  209\n10  110  210\nIndex(['a', 'b'], dtype='object')\nRangeIndex(start=0, stop=11, step=1)\n"
     ]
    },
    {
     "data": {
      "text/plain": [
       "[0, 1, 2, 3, 4, 5, 6, 7, 8, 9, 10]"
      ]
     },
     "execution_count": 2,
     "metadata": {},
     "output_type": "execute_result"
    }
   ],
   "source": [
    "print(df1.head())      # 默认查看前五行\n",
    "print(df1.tail())      # 默认查看后五行\n",
    "print(df1.columns)      # 查看列名\n",
    "print(df1.index)      # 查看索引名\n",
    "[i for i in df1.index]"
   ]
  },
  {
   "cell_type": "code",
   "execution_count": 3,
   "metadata": {},
   "outputs": [
    {
     "name": "stdout",
     "output_type": "stream",
     "text": [
      "(11, 2)\na    int64\nb    int64\ndtype: object\nint64\n       a      b\n0  False  False\n1  False  False\n2  False  False\n3  False  False\n4  False  False\nEmpty DataFrame\nColumns: [a, b]\nIndex: []\n"
     ]
    }
   ],
   "source": [
    "print(df1.shape)        # 查看行列数\n",
    "print(df1.dtypes)       # 查看数据类型\n",
    "print(df1['a'].dtypes)\n",
    "print(df1.isnull().head())      # 查看是否有空值\n",
    "print(df1[df1['a'].isnull()])"
   ]
  },
  {
   "cell_type": "code",
   "execution_count": 4,
   "metadata": {},
   "outputs": [
    {
     "name": "stdout",
     "output_type": "stream",
     "text": [
      "<class 'pandas.core.frame.DataFrame'>\nRangeIndex: 11 entries, 0 to 10\nData columns (total 2 columns):\na    11 non-null int64\nb    11 non-null int64\ndtypes: int64(2)\nmemory usage: 256.0 bytes\n"
     ]
    }
   ],
   "source": [
    "df1.info()      # 数据表信息"
   ]
  },
  {
   "cell_type": "code",
   "execution_count": 5,
   "metadata": {},
   "outputs": [
    {
     "name": "stdout",
     "output_type": "stream",
     "text": [
      "[100 101 102 103 104 105 106 107 108 109 110]\n11\n110    1\n109    1\n108    1\n107    1\n106    1\n105    1\n104    1\n103    1\n102    1\n101    1\n100    1\nName: a, dtype: int64\n"
     ]
    }
   ],
   "source": [
    "print(df1['a'].unique())     # 查看唯一值\n",
    "print(len(df1['a'].unique()))     # 查看唯一值数量\n",
    "print(df1['a'].value_counts())      # 每个唯一值出现的次数"
   ]
  },
  {
   "cell_type": "code",
   "execution_count": null,
   "metadata": {},
   "outputs": [],
   "source": []
  }
 ],
 "metadata": {
  "kernelspec": {
   "display_name": "Python 2",
   "language": "python",
   "name": "python2"
  },
  "language_info": {
   "codemirror_mode": {
    "name": "ipython",
    "version": 2
   },
   "file_extension": ".py",
   "mimetype": "text/x-python",
   "name": "python",
   "nbconvert_exporter": "python",
   "pygments_lexer": "ipython2",
   "version": "2.7.6"
  }
 },
 "nbformat": 4,
 "nbformat_minor": 0
}
