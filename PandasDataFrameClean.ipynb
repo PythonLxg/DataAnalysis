{
 "cells": [
  {
   "cell_type": "code",
   "execution_count": 1,
   "metadata": {
    "collapsed": true
   },
   "outputs": [
    {
     "name": "stdout",
     "output_type": "stream",
     "text": [
      "         b     a   c\n2015  24.0  11.0  11\n2016   NaN  19.0  19\n2017  17.0   NaN  18\n2018  33.0  32.0  22\n"
     ]
    }
   ],
   "source": [
    "import pandas as pd\n",
    "import numpy as np\n",
    "\n",
    "data = {'b': {2016: None, 2015: 24, 2017: 17, 2018: 33}, 'a': {2015: 11, 2017: np.nan, 2016: 19, 2018: 32}, \n",
    "        'c': {2015: 11, 2017: 18, 2016: 19, 2018: 22}}  \n",
    "df = pd.DataFrame(data)\n",
    "print(df)"
   ]
  },
  {
   "cell_type": "code",
   "execution_count": 2,
   "metadata": {},
   "outputs": [
    {
     "name": "stdout",
     "output_type": "stream",
     "text": [
      "          b      a      c\n2015  False  False  False\n2016   True  False  False\n2017  False   True  False\n2018  False  False  False\n2015    False\n2016    False\n2017     True\n2018    False\nName: a, dtype: bool\n------\nFalse    3\nTrue     1\nName: a, dtype: int64\n"
     ]
    }
   ],
   "source": [
    "# 缺失值处理\n",
    "print(df.isnull())      # 判断是否有缺失值\n",
    "print(df['a'].isnull())\n",
    "print('------')\n",
    "print(df['a'].isnull().value_counts())  # 列表a有多少缺失值"
   ]
  },
  {
   "cell_type": "code",
   "execution_count": 3,
   "metadata": {},
   "outputs": [
    {
     "name": "stdout",
     "output_type": "stream",
     "text": [
      "         b     a   c\n2015  24.0  11.0  11\n2018  33.0  32.0  22\n         b     a   c\n2015  24.0  11.0  11\n2016   NaN  19.0  19\n2017  17.0   NaN  18\n2018  33.0  32.0  22\n         b     a   c\n2015  24.0  11.0  11\n2016   NaN  19.0  19\n2017  17.0   NaN  18\n2018  33.0  32.0  22\n"
     ]
    }
   ],
   "source": [
    "# 删除缺失值\n",
    "print(df.dropna(how='any'))     # 删除含有缺失值的行。等价于df.dropna()，默认axis=0，在原处修改inplace=True\n",
    "print(df.dropna(how='all'))     # 删除全是缺失值的行\n",
    "print(df.dropna(how='all', axis=1))     # 删除全是缺失值的列"
   ]
  },
  {
   "cell_type": "code",
   "execution_count": 4,
   "metadata": {},
   "outputs": [
    {
     "name": "stdout",
     "output_type": "stream",
     "text": [
      "         b     a   c\n2015  24.0  11.0  11\n2016   0.0  19.0  19\n2017  17.0   0.0  18\n2018  33.0  32.0  22\n2015    11.000000\n2016    19.000000\n2017    20.666667\n2018    32.000000\nName: a, dtype: float64\n2015    11.0\n2016    19.0\n2017    19.0\n2018    32.0\nName: a, dtype: float64\n"
     ]
    }
   ],
   "source": [
    "# 填充缺失值\n",
    "print(df.fillna(value=0))       # 填充值\n",
    "print(df['a'].fillna(df['a'].mean()))       # 填充函数\n",
    "print(df['a'].fillna(method=\"ffill\"))       # 向前填充，向后填充method=‘bfill’"
   ]
  },
  {
   "cell_type": "code",
   "execution_count": 5,
   "metadata": {},
   "outputs": [
    {
     "name": "stdout",
     "output_type": "stream",
     "text": [
      "b    float64\na     object\nc      int64\ndtype: object\n"
     ]
    },
    {
     "data": {
      "text/plain": [
       "2015    11.0\n2016    19.0\n2017     nan\n2018    32.0\nName: a, dtype: object"
      ]
     },
     "execution_count": 5,
     "metadata": {},
     "output_type": "execute_result"
    }
   ],
   "source": [
    "df['a'] = df['a'].astype('str')\n",
    "print(df.dtypes)\n",
    "df['a'].map(str.strip)      # 清除空格 \n",
    "# 转换成大写 df['a'].str.upper() "
   ]
  },
  {
   "cell_type": "code",
   "execution_count": 6,
   "metadata": {},
   "outputs": [
    {
     "name": "stdout",
     "output_type": "stream",
     "text": [
      "         b    aa   c\n2015  24.0  11.0  11\n2016   NaN  19.0  19\n2017  17.0   nan  18\n2018  33.0  32.0  22\n"
     ]
    }
   ],
   "source": [
    "# 修改列名\n",
    "print(df.rename(columns={'a': 'aa'}))      # 若原处修改则添加inplace=True\n",
    "# 更改索引 df.set_index('a')    将列a作为索引\n",
    "# 重置索引 df.reset_index()"
   ]
  },
  {
   "cell_type": "code",
   "execution_count": 7,
   "metadata": {},
   "outputs": [],
   "source": [
    "# dup = df.duplicated(subset=['a', 'b'], keep='first')  查看是否有重复值\n",
    "# dup.value_counts()    # 重复值数量\n",
    "# df[df.duplicated(subset=['a', 'b'], keep='first')]   保留重复值\n",
    "# df.drop_duplicates(subset=['a', 'b'], keep='first')   删除重复值"
   ]
  },
  {
   "cell_type": "code",
   "execution_count": 8,
   "metadata": {},
   "outputs": [
    {
     "name": "stdout",
     "output_type": "stream",
     "text": [
      "         b     a   c\n2015  42.0  11.0  11\n2016   NaN  19.0  19\n2017  71.0   nan  18\n2018  33.0  32.0  22\n"
     ]
    }
   ],
   "source": [
    "# 替换值\n",
    "df['b'] = df['b'].replace({24: 42, 17: 71})\n",
    "print(df)"
   ]
  },
  {
   "cell_type": "code",
   "execution_count": null,
   "metadata": {},
   "outputs": [],
   "source": []
  }
 ],
 "metadata": {
  "kernelspec": {
   "display_name": "Python 2",
   "language": "python",
   "name": "python2"
  },
  "language_info": {
   "codemirror_mode": {
    "name": "ipython",
    "version": 2
   },
   "file_extension": ".py",
   "mimetype": "text/x-python",
   "name": "python",
   "nbconvert_exporter": "python",
   "pygments_lexer": "ipython2",
   "version": "2.7.6"
  }
 },
 "nbformat": 4,
 "nbformat_minor": 0
}
