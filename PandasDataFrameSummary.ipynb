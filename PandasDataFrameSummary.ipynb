{
 "cells": [
  {
   "cell_type": "code",
   "execution_count": 1,
   "metadata": {
    "collapsed": true
   },
   "outputs": [
    {
     "name": "stdout",
     "output_type": "stream",
     "text": [
      "     name  sex  age      city  height\n0     ray   nv   10  hangzhou     180\n1    jack  nan   30   beijing     168\n2    lucy   nv   20  hangzhou     170\n3     bob  nan   15   chengdu     190\n4   candy   nv   50   beijing     180\n5    luck  nan   15    suzhou     178\n6    body   nv   30  hangzhou     188\n7    rain  nan   20   beijing     180\n8    perk   nv   20  hangzhou     170\n9      dd  nan   30   chengdu     160\n10    ppd  nan   15    suzhou     159\n"
     ]
    }
   ],
   "source": [
    "import pandas as pd\n",
    "import numpy as np\n",
    "\n",
    "df = pd.DataFrame({'name': ['ray', 'jack', 'lucy', 'bob', 'candy', 'luck', 'body', 'rain', 'perk', 'dd', 'ppd'],\n",
    "                   'sex': ['nv', 'nan', 'nv', 'nan', 'nv', 'nan', 'nv', 'nan', 'nv', 'nan', 'nan'],\n",
    "                   'age': [10, 30, 20, 15, 50, 15, 30, 20, 20, 30, 15],\n",
    "                   'height': [180, 168, 170, 190, 180, 178, 188, 180, 170, 160, 159],\n",
    "                   'city': ['hangzhou', 'beijing', 'hangzhou', 'chengdu', 'beijing', 'suzhou', 'hangzhou', 'beijing', 'hangzhou', 'chengdu', 'suzhou']},\n",
    "                  columns=['name', 'sex', 'age', 'city', 'height'])\n",
    "print(df)"
   ]
  },
  {
   "cell_type": "code",
   "execution_count": 2,
   "metadata": {},
   "outputs": [
    {
     "name": "stdout",
     "output_type": "stream",
     "text": [
      "           age\nsex           \nnan  20.833333\nnv   26.000000\n----------------\n               age  height\nsex city                  \nnan beijing   25.0   174.0\n    chengdu   22.5   175.0\n    suzhou    15.0   168.5\nnv  beijing   50.0   180.0\n    hangzhou  20.0   177.0\n------------------\n               age           \n              mean median sum\nsex city                     \nnan beijing   25.0   25.0  50\n    chengdu   22.5   22.5  45\n    suzhou    15.0   15.0  30\nnv  beijing   50.0   50.0  50\n    hangzhou  20.0   20.0  80\n------------------\n           age      height\n          mean  sum   mean\nsex                       \nnan  20.833333  125  172.5\nnv   26.000000  130  177.6\n"
     ]
    }
   ],
   "source": [
    "# 分组计算\n",
    "group1 = df.groupby('sex')\n",
    "sex_age_mean = group1[['age']].mean()\n",
    "print(sex_age_mean)\n",
    "print('----------------')\n",
    "group2 = df.groupby(['sex', 'city'])\n",
    "sexCity_age_mean = group2[['age', 'height']].mean()\n",
    "sexCity_age_mean1 = group2[['age']].agg([np.mean, np.median, np.sum])\n",
    "sexCity_age_mean2 = group1.agg({'age': [np.mean, np.sum], 'height': np.mean})\n",
    "print(sexCity_age_mean)\n",
    "print('------------------')\n",
    "print(sexCity_age_mean1)\n",
    "print('------------------')\n",
    "print(sexCity_age_mean2)"
   ]
  },
  {
   "cell_type": "code",
   "execution_count": 3,
   "metadata": {},
   "outputs": [
    {
     "name": "stdout",
     "output_type": "stream",
     "text": [
      "         age    height\n0  -1.055009  0.312984\n1   1.245505 -0.367057\n2  -0.395628 -0.991117\n3  -0.792594  1.427442\n4   1.582513  0.312984\n5  -0.792594  0.448625\n6   0.263752  1.356265\n7  -0.113228  0.611761\n8  -0.395628 -0.991117\n9   1.245505 -1.019602\n10 -0.792594 -1.101170\n"
     ]
    }
   ],
   "source": [
    "zscore = lambda x: (x - x.mean()) / x.std()\n",
    "a = df.groupby('sex').transform(zscore)\n",
    "print(a)"
   ]
  },
  {
   "cell_type": "code",
   "execution_count": 4,
   "metadata": {},
   "outputs": [
    {
     "name": "stdout",
     "output_type": "stream",
     "text": [
      "    name  sex  age      city  height\n0    ray   nv   10  hangzhou     180\n2   lucy   nv   20  hangzhou     170\n5   luck  nan   15    suzhou     178\n6   body   nv   30  hangzhou     188\n8   perk   nv   20  hangzhou     170\n10   ppd  nan   15    suzhou     159\n"
     ]
    }
   ],
   "source": [
    "filter1 = lambda x: x['age'].mean() <= 20\n",
    "group2 = df.groupby(['sex', 'city'])\n",
    "print(group2.filter(filter1))"
   ]
  },
  {
   "cell_type": "code",
   "execution_count": 5,
   "metadata": {},
   "outputs": [
    {
     "name": "stdout",
     "output_type": "stream",
     "text": [
      "               name  age  height\nsex city                        \nnv  hangzhou    ray   10     180\nnan beijing    jack   30     168\nnv  hangzhou   lucy   20     170\nnan chengdu     bob   15     190\nnv  beijing   candy   50     180\nnan suzhou     luck   15     178\nnv  hangzhou   body   30     188\nnan beijing    rain   20     180\nnv  hangzhou   perk   20     170\nnan chengdu      dd   30     160\n    suzhou      ppd   15     159\n               name  age  height\nsex city                        \nnan beijing    jack   30     168\n    beijing    rain   20     180\n    chengdu     bob   15     190\n    chengdu      dd   30     160\n    suzhou     luck   15     178\n    suzhou      ppd   15     159\nnv  beijing   candy   50     180\n    hangzhou    ray   10     180\n    hangzhou   lucy   20     170\n    hangzhou   body   30     188\n    hangzhou   perk   20     170\n               age  height\nsex city                  \nnan beijing   25.0   174.0\n    chengdu   22.5   175.0\n    suzhou    15.0   168.5\nnv  beijing   50.0   180.0\n    hangzhou  20.0   177.0\n"
     ]
    }
   ],
   "source": [
    "level1 = df.set_index(['sex', 'city'])\n",
    "level_group = level1.groupby(level=[0, 1])\n",
    "print(level1)\n",
    "print(level1.sort_index())\n",
    "print(level_group.mean())"
   ]
  },
  {
   "cell_type": "code",
   "execution_count": 6,
   "metadata": {},
   "outputs": [
    {
     "name": "stdout",
     "output_type": "stream",
     "text": [
      "sex  city    \nnan  beijing     2\n     chengdu     2\n     suzhou      2\nnv   beijing     1\n     hangzhou    4\ndtype: int64\n"
     ]
    }
   ],
   "source": [
    "# 组的一些属性\n",
    "print(group2.size())"
   ]
  },
  {
   "cell_type": "code",
   "execution_count": 7,
   "metadata": {},
   "outputs": [
    {
     "name": "stdout",
     "output_type": "stream",
     "text": [
      "{('nan', 'beijing'): Int64Index([1, 7], dtype='int64'), ('nan', 'chengdu'): Int64Index([3, 9], dtype='int64'), ('nan', 'suzhou'): Int64Index([5, 10], dtype='int64'), ('nv', 'beijing'): Int64Index([4], dtype='int64'), ('nv', 'hangzhou'): Int64Index([0, 2, 6, 8], dtype='int64')}\n"
     ]
    }
   ],
   "source": [
    "print(group2.groups)        # 得到每个索引组在源数据中的索引位置"
   ]
  },
  {
   "cell_type": "code",
   "execution_count": 8,
   "metadata": {},
   "outputs": [
    {
     "name": "stdout",
     "output_type": "stream",
     "text": [
      "   name  sex  age     city  height\n1  jack  nan   30  beijing     168\n7  rain  nan   20  beijing     180\n"
     ]
    }
   ],
   "source": [
    "print(group2.get_group(('nan', 'beijing')))     # 得到包含索引组的所有数据"
   ]
  },
  {
   "cell_type": "code",
   "execution_count": 9,
   "metadata": {},
   "outputs": [
    {
     "name": "stdout",
     "output_type": "stream",
     "text": [
      "('nan', 'beijing')\n(2, 5)\n('nan', 'chengdu')\n(2, 5)\n('nan', 'suzhou')\n(2, 5)\n('nv', 'beijing')\n(1, 5)\n('nv', 'hangzhou')\n(4, 5)\n"
     ]
    }
   ],
   "source": [
    "for s, c in group2:\n",
    "    print(s)\n",
    "    print(c.shape)"
   ]
  },
  {
   "cell_type": "code",
   "execution_count": 10,
   "metadata": {},
   "outputs": [
    {
     "name": "stdout",
     "output_type": "stream",
     "text": [
      "        mean                             len                        \ncity beijing chengdu hangzhou suzhou beijing chengdu hangzhou suzhou\nsex                                                                 \nnan    174.0   175.0      NaN  168.5     2.0     2.0      NaN    2.0\nnv     180.0     NaN    177.0    NaN     1.0     NaN      4.0    NaN\n--------------------------------------------------------------\n           mean                             len                        \ncity    beijing chengdu hangzhou suzhou beijing chengdu hangzhou suzhou\nsex age                                                                \nnan 15        0     190        0  168.5       0       1        0      2\n    20      180       0        0    0.0       1       0        0      0\n    30      168     160        0    0.0       1       1        0      0\nnv  10        0       0      180    0.0       0       0        1      0\n    20        0       0      170    0.0       0       0        2      0\n    30        0       0      188    0.0       0       0        1      0\n    50      180       0        0    0.0       1       0        0      0\n"
     ]
    }
   ],
   "source": [
    "# 数据透视表\n",
    "print(df.pivot_table(index='sex', columns='city', values='height', aggfunc=[np.mean, len]))  # 还有margins增加总计行列\n",
    "print('--------------------------------------------------------------')\n",
    "pivot1 = df.pivot_table(index=['sex', 'age'], columns='city', values='height', aggfunc=[np.mean, len], fill_value=0)\n",
    "print(pivot1)"
   ]
  },
  {
   "cell_type": "code",
   "execution_count": 11,
   "metadata": {},
   "outputs": [],
   "source": [
    "# 重塑层次化索引\n",
    "# stack()  将数据最内层的列旋转到行上    pivot1.stack()\n",
    "# unstack() 将数据最内层的行旋转到列上   pivot1.unstack()"
   ]
  },
  {
   "cell_type": "code",
   "execution_count": 12,
   "metadata": {},
   "outputs": [
    {
     "name": "stdout",
     "output_type": "stream",
     "text": [
      "age  10  15  20  30  50\nsex                    \nnan   0   3   1   2   0\nnv    1   0   2   1   1\n"
     ]
    }
   ],
   "source": [
    "# 数据交叉表：用于计算分组频率\n",
    "cross1 = pd.crosstab(index=df['sex'], columns=df['age'])\n",
    "print(cross1)"
   ]
  },
  {
   "cell_type": "code",
   "execution_count": 13,
   "metadata": {},
   "outputs": [
    {
     "name": "stdout",
     "output_type": "stream",
     "text": [
      "   name  sex  age      city  height\n3   bob  nan   15   chengdu     190\n5  luck  nan   15    suzhou     178\n1  jack  nan   30   beijing     168\n9    dd  nan   30   chengdu     160\n6  body   nv   30  hangzhou     188\n   name  sex  age      city  height\n2  lucy   nv   20  hangzhou     170\n1  jack  nan   30   beijing     168\n"
     ]
    }
   ],
   "source": [
    "# 数据统计\n",
    "print(df.sample(n=5))\n",
    "w = [0.2, 0.3, 0.5]\n",
    "print(df.head(3).sample(n=2, weights=w, replace=False))     # replace默认不放回"
   ]
  },
  {
   "cell_type": "code",
   "execution_count": 14,
   "metadata": {},
   "outputs": [
    {
     "name": "stdout",
     "output_type": "stream",
     "text": [
      "        age  height\ncount  11.0    11.0\nmean   23.2   174.8\nstd    11.2    10.3\nmin    10.0   159.0\n25%    15.0   169.0\n50%    20.0   178.0\n75%    30.0   180.0\nmax    50.0   190.0\n"
     ]
    }
   ],
   "source": [
    "print(df.describe().round(1))"
   ]
  },
  {
   "cell_type": "code",
   "execution_count": 15,
   "metadata": {},
   "outputs": [
    {
     "name": "stdout",
     "output_type": "stream",
     "text": [
      "50\n4\n50\n"
     ]
    }
   ],
   "source": [
    "print(df['age'].max())\n",
    "print(df['age'].idxmax())       # 返回最大值的索引，也有df['age'].idxmin()\n",
    "print(df.loc[4, 'age'])"
   ]
  },
  {
   "cell_type": "code",
   "execution_count": 16,
   "metadata": {},
   "outputs": [
    {
     "name": "stdout",
     "output_type": "stream",
     "text": [
      "               age      height\nage     126.363636    0.636364\nheight    0.636364  105.763636\n0.6363636363636379\n"
     ]
    }
   ],
   "source": [
    "# 协方差\n",
    "print(df.cov())\n",
    "print(df['age'].cov(df['height']))      # 两变量之间的协方差"
   ]
  },
  {
   "cell_type": "code",
   "execution_count": 17,
   "metadata": {},
   "outputs": [
    {
     "name": "stdout",
     "output_type": "stream",
     "text": [
      "             age    height\nage     1.000000  0.005505\nheight  0.005505  1.000000\n0.005504604364704426\n"
     ]
    }
   ],
   "source": [
    "# 相关系数\n",
    "print(df.corr())\n",
    "print(df['age'].corr(df['height']))     # 两变量之间的相关系数"
   ]
  },
  {
   "cell_type": "code",
   "execution_count": null,
   "metadata": {},
   "outputs": [],
   "source": []
  }
 ],
 "metadata": {
  "kernelspec": {
   "display_name": "Python 2",
   "language": "python",
   "name": "python2"
  },
  "language_info": {
   "codemirror_mode": {
    "name": "ipython",
    "version": 2
   },
   "file_extension": ".py",
   "mimetype": "text/x-python",
   "name": "python",
   "nbconvert_exporter": "python",
   "pygments_lexer": "ipython2",
   "version": "2.7.6"
  }
 },
 "nbformat": 4,
 "nbformat_minor": 0
}
